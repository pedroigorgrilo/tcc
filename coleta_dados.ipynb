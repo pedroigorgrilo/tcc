{
 "cells": [
  {
   "cell_type": "markdown",
   "metadata": {},
   "source": [
    "# Extração de Dados"
   ]
  },
  {
   "cell_type": "markdown",
   "metadata": {},
   "source": [
    "Código tem o objetivo de extrarir os dados de Tuberculose do siste do Ministério da Saúde (DataSus).\n",
    "\n",
    "Link do Site: http://tabnet.datasus.gov.br/cgi/tabcgi.exe?sinannet/cnv/tubercbr.def"
   ]
  },
  {
   "cell_type": "markdown",
   "metadata": {},
   "source": [
    "### Imports"
   ]
  },
  {
   "cell_type": "code",
   "execution_count": null,
   "metadata": {},
   "outputs": [],
   "source": [
    "from selenium import webdriver\n",
    "from selenium.webdriver import ActionChains, ChromeOptions\n",
    "from selenium.webdriver.support.ui import Select\n",
    "from selenium.webdriver.common import keys\n",
    "from bs4 import BeautifulSoup\n",
    "import time\n",
    "import pandas as pd"
   ]
  },
  {
   "cell_type": "markdown",
   "metadata": {},
   "source": [
    "### Extração dos dados"
   ]
  },
  {
   "cell_type": "code",
   "execution_count": null,
   "metadata": {},
   "outputs": [],
   "source": [
    "# Função do Selenium para realizar as seleções no site do DataSUS\n",
    "\n",
    "def safe_click(xpath, driver, max_retry = 3):\n",
    "    try:\n",
    "        to_click = driver.find_element_by_xpath(xpath)\n",
    "        to_click.click()\n",
    "    except:\n",
    "        print(\"ERRO NO CLICK\")\n",
    "        if max_retry != 0:\n",
    "            time.sleep(10)\n",
    "            safe_click(xpath, driver, max_retry-1)\n",
    "        else:\n",
    "            print('NUMERO DE TENTATIVAS EXCEDIDA')\n",
    "            get_current_data()\n",
    "            raise"
   ]
  },
  {
   "cell_type": "code",
   "execution_count": null,
   "metadata": {},
   "outputs": [],
   "source": [
    "# Função para executar as seleções no site do DataSUS, por mês e considerando os filtros selecionados\n",
    "\n",
    "lista_mes=['Janeiro','Fevereiro','Marco','Abril','Maio','Junho','Julho','Agosto','Setembro','Outubro','Novembro','Dezembro']\n",
    "\n",
    "df_datasus = pd.DataFrame() # Criação do dataframe final com os dados brutos\n",
    "\n",
    "for mes in lista_mes: # Iteração por mês\n",
    "    options = ChromeOptions()\n",
    "    options.add_argument('headless') # Opção para não mostrar a tela durante a execução\n",
    "    driver = webdriver.Chrome('C:\\Program Files (x86)\\Google\\Chrome\\Application\\chromedriver', options=options) # Driver do chrome\n",
    "    driver.get('http://tabnet.datasus.gov.br/cgi/tabcgi.exe?sinannet/cnv/tubercbr.def') # Acesso ao site do DataSUS\n",
    "    for ano in list(range(2001, 2019)): # Seleção dos anos disponíveis no site\n",
    "        safe_click(f'//div[@class=\"periodo\"]//option[contains(.,\"{ano}\")]', driver)\n",
    "        time.sleep(1)\n",
    "    # Seleção da forma de apresentar os dados (por ano de diagnóstico e UF)\n",
    "    safe_click('//option[@value=\"UF_de_notificação\"]', driver) \n",
    "    safe_click('(//option[@value=\"Ano_Diagnóstico\"])[2]', driver) \n",
    "    safe_click('(//img[@id=\"fig2\"])', driver)\n",
    "    # Seleção do mês da iteração\n",
    "    safe_click('//*[@name=\"SMês_Diagnóstico\"]/option[contains(.,\"Todas as categorias\")]', driver)\n",
    "    safe_click(f'//*[@name=\"SMês_Diagnóstico\"]/option[contains(.,\"{mes}\")]', driver)\n",
    "    safe_click('(//img[@id=\"fig43\"])', driver)\n",
    "    time.sleep(1)\n",
    "    # Tipos de Entrada (Selecionar: \"Caso Novo\", \"Não Sabe\" e \"Pós Óbito\")\n",
    "    safe_click('//*[@name=\"STipo_de_entrada__\"]/option[contains(.,\"CASO NOVO\")]', driver)\n",
    "    time.sleep(1)\n",
    "    safe_click('//*[@name=\"STipo_de_entrada__\"]/option[contains(.,\"NÃO SABE\")]', driver)\n",
    "    time.sleep(1)\n",
    "    safe_click('//*[@name=\"STipo_de_entrada__\"]/option[contains(.,\"PÓS ÓBITO\")]', driver)\n",
    "    time.sleep(1)\n",
    "    # Retirar a opção \"Todas as categorias da seleção (já vem selecionado)\"\n",
    "    safe_click('//*[@name=\"STipo_de_entrada__\"]/option[contains(.,\"Todas as categorias\")]', driver)\n",
    "\n",
    "    safe_click('//*[@value=\"prn\"]', driver)\n",
    "    safe_click('//input[@class=\"mostra\"]', driver)\n",
    "    \n",
    "    dados = driver.find_element_by_xpath('//div[@name=\"governo\"]')\n",
    "    html = dados.get_attribute(\"innerHTML\")\n",
    "    soup = BeautifulSoup(html, \"html.parser\") \n",
    "    #mydivs = soup.findAll('text') \n",
    "    mydivs = soup.findAll(\"pre\") \n",
    "    data = []\n",
    "    for div in mydivs:\n",
    "        data.append(div.text)\n",
    "\n",
    "\n",
    "    lale = (data[0].split('\\n'))\n",
    "    # Inserindo os dados no dataframe final\n",
    "    lista_dados = []\n",
    "    for i in list(range(0, 28)):\n",
    "        lista_dados.append(lale[i].split(';'))\n",
    "\n",
    "    print(f'Finished {mes}')\n",
    "    df_mes = pd.DataFrame(lista_dados[1:], columns=lista_dados[0])\n",
    "    df_mes['mes'] = mes\n",
    "    df_datasus = pd.concat([df_datasus, df_mes])"
   ]
  },
  {
   "cell_type": "markdown",
   "metadata": {},
   "source": [
    "### Dados brutos"
   ]
  },
  {
   "cell_type": "code",
   "execution_count": null,
   "metadata": {},
   "outputs": [],
   "source": [
    "df_datasus"
   ]
  },
  {
   "cell_type": "markdown",
   "metadata": {},
   "source": [
    "### Exportação da Base Bruta"
   ]
  },
  {
   "cell_type": "code",
   "execution_count": null,
   "metadata": {},
   "outputs": [],
   "source": [
    "df_datasus.to_csv('df_datasus.csv',sep=';',index=False,encoding='utf-8-sig')"
   ]
  }
 ],
 "metadata": {
  "kernelspec": {
   "display_name": "Python 3",
   "language": "python",
   "name": "python3"
  },
  "language_info": {
   "codemirror_mode": {
    "name": "ipython",
    "version": 3
   },
   "file_extension": ".py",
   "mimetype": "text/x-python",
   "name": "python",
   "nbconvert_exporter": "python",
   "pygments_lexer": "ipython3",
   "version": "3.7.4"
  }
 },
 "nbformat": 4,
 "nbformat_minor": 4
}
